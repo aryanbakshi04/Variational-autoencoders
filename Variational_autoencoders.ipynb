{
  "nbformat": 4,
  "nbformat_minor": 0,
  "metadata": {
    "colab": {
      "provenance": []
    },
    "kernelspec": {
      "name": "python3",
      "display_name": "Python 3"
    },
    "language_info": {
      "name": "python"
    }
  },
  "cells": [
    {
      "cell_type": "code",
      "source": [
        "import torch\n",
        "import torch.nn as nn\n",
        "import torch.optim as optim\n",
        "import matplotlib.pyplot as plt\n",
        "from torchvision import datasets,transforms\n",
        "from torch.utils.data import DataLoader"
      ],
      "metadata": {
        "id": "TBwKKA9F81ux"
      },
      "execution_count": 1,
      "outputs": []
    },
    {
      "cell_type": "code",
      "execution_count": 3,
      "metadata": {
        "collapsed": true,
        "id": "LtI0qdbh6PQS"
      },
      "outputs": [],
      "source": [
        "class VAE(nn.Module):\n",
        "  def __init__(self,latent_dim):\n",
        "    super(VAE,self).__init__()\n",
        "    self.latent_dim = latent_dim\n",
        "\n",
        "    self.encoder = nn.Sequential(\n",
        "        nn.Conv2d(1,32,kernel_size=3,stride=2,padding=1),\n",
        "        nn.Relu(),\n",
        "        nn.nn.Conv2d(32,64, kernel_size=3,stride=2,padding=1),\n",
        "        nn.Relu(),\n",
        "        nn.Flatten(),\n",
        "        nn.Linear(64*7*7,128),\n",
        "        nn.Relu(),\n",
        "    )\n",
        "\n",
        "    self.z_mean=nn.linear(128,latent_dim)\n",
        "    self.z_log_var=nn.linear(128,latent_dim)\n",
        "\n",
        "    self.decoder = nn.Sequential(\n",
        "        nn.Linear(latent_dim,128),\n",
        "        nn.Relu(),\n",
        "        nn.Linear(128,64*7*7),\n",
        "        nn.Relu(),\n",
        "        nn.Unflatten(1,(64,7,7)),\n",
        "        nn.ConvTranspose2d(64,32,kernel_size=3,stride=2,padding=1,output_padding=1),\n",
        "        nn.Relu(),\n",
        "        nn.ConvTranspose2d(32,1,kernel_size=3,stride=2,padding=1,output_padding=1),\n",
        "        nn.Sigmoid(),\n",
        "    )\n",
        "\n",
        "  def encoder(self,x):\n",
        "    h=self.encoder(x)\n",
        "    mu=self.z_mean(h)\n",
        "    log_var=self.z_log_var(h)\n",
        "    return mu,log_var\n",
        "\n",
        "  def reparamet(self,mu ,log_var):\n",
        "    std=torch.exp(0.5*log_var)\n",
        "    eps=torch.randn_like(std)\n",
        "    z=mu+eps*std\n",
        "    return z\n",
        "\n",
        "  def decode(self,z):\n",
        "    x_hat=self.decoder(z)\n",
        "    return x_hat\n",
        "\n",
        "  def forward(self,x):\n",
        "    mu,log_var=self.encoder(x)\n",
        "    z=self.reparamet(mu,log_var)\n",
        "    x_hat=self.decode(z)\n",
        "    return x_hat,mu,log_var"
      ]
    },
    {
      "cell_type": "code",
      "source": [
        "transform = transforms.Compose([transforms.ToTensor()])\n",
        "train_dataset = datasets.MNIST(root='./data', train=True, transform=transform, download=True)\n",
        "test_dataset = datasets.MNIST(root='./data', train=False, transform=transform, download=True)\n",
        "test_loader = DataLoader(test_dataset, batch_size=128, shuffle=True)"
      ],
      "metadata": {
        "id": "IHEdVyaS2wDe"
      },
      "execution_count": 5,
      "outputs": []
    },
    {
      "cell_type": "code",
      "source": [
        "train_dataset"
      ],
      "metadata": {
        "colab": {
          "base_uri": "https://localhost:8080/"
        },
        "id": "uKZ9GSJv4xSF",
        "outputId": "71fa8ef1-ccf4-4cc5-ce42-fe5cb3c92d0e"
      },
      "execution_count": 6,
      "outputs": [
        {
          "output_type": "execute_result",
          "data": {
            "text/plain": [
              "Dataset MNIST\n",
              "    Number of datapoints: 60000\n",
              "    Root location: ./data\n",
              "    Split: Train\n",
              "    StandardTransform\n",
              "Transform: Compose(\n",
              "               ToTensor()\n",
              "           )"
            ]
          },
          "metadata": {},
          "execution_count": 6
        }
      ]
    },
    {
      "cell_type": "code",
      "source": [
        "test_dataset"
      ],
      "metadata": {
        "colab": {
          "base_uri": "https://localhost:8080/"
        },
        "id": "EIoAMBwM76g6",
        "outputId": "392d1c13-a6f8-49b5-b114-56f57c0a7e62"
      },
      "execution_count": 7,
      "outputs": [
        {
          "output_type": "execute_result",
          "data": {
            "text/plain": [
              "Dataset MNIST\n",
              "    Number of datapoints: 10000\n",
              "    Root location: ./data\n",
              "    Split: Test\n",
              "    StandardTransform\n",
              "Transform: Compose(\n",
              "               ToTensor()\n",
              "           )"
            ]
          },
          "metadata": {},
          "execution_count": 7
        }
      ]
    },
    {
      "cell_type": "code",
      "source": [
        "test_loader"
      ],
      "metadata": {
        "colab": {
          "base_uri": "https://localhost:8080/"
        },
        "id": "pF76QMA3796d",
        "outputId": "5b087c02-35e2-455f-b1b0-63ccbd90fc43"
      },
      "execution_count": 8,
      "outputs": [
        {
          "output_type": "execute_result",
          "data": {
            "text/plain": [
              "<torch.utils.data.dataloader.DataLoader at 0x7b5ec887a650>"
            ]
          },
          "metadata": {},
          "execution_count": 8
        }
      ]
    }
  ]
}
